{
 "cells": [
  {
   "cell_type": "markdown",
   "id": "a0c43519",
   "metadata": {},
   "source": [
    "# Description"
   ]
  },
  {
   "cell_type": "markdown",
   "id": "5ac7005e",
   "metadata": {},
   "source": [
    "To ensure the predictions we decided to  supplement our EEG Machine Learning models with a CNN model based on the two different classes given by the writing samples."
   ]
  },
  {
   "cell_type": "markdown",
   "id": "6a605c64",
   "metadata": {},
   "source": [
    "# Importing the Libraries"
   ]
  },
  {
   "cell_type": "code",
   "execution_count": 1,
   "id": "8bb40734",
   "metadata": {},
   "outputs": [],
   "source": [
    "import tensorflow as tf\n",
    "from keras.preprocessing.image import ImageDataGenerator"
   ]
  },
  {
   "cell_type": "markdown",
   "id": "407c3ce0",
   "metadata": {},
   "source": [
    "# Data Preprocessing"
   ]
  },
  {
   "cell_type": "markdown",
   "id": "f1a3114e",
   "metadata": {},
   "source": [
    "## Preprocessing the Training Set"
   ]
  },
  {
   "cell_type": "markdown",
   "id": "42d665e0",
   "metadata": {},
   "source": [
    "The input image is on RGB. Every image is made up of pixels that range from 0 to 255. We need to normalize them i.e convert the range between 0 to 1 before passing it to the model."
   ]
  },
  {
   "cell_type": "code",
   "execution_count": 2,
   "id": "4bed2b18",
   "metadata": {},
   "outputs": [
    {
     "name": "stdout",
     "output_type": "stream",
     "text": [
      "Found 146 images belonging to 2 classes.\n"
     ]
    }
   ],
   "source": [
    "train_datagen = ImageDataGenerator(rescale = 1./255,\n",
    "                                   shear_range = 0.2,\n",
    "                                   zoom_range = 0.2,\n",
    "                                   horizontal_flip = True)\n",
    "training_set = train_datagen.flow_from_directory('Dataset/Training_Set',\n",
    "                                                 target_size = (64, 64),\n",
    "                                                 batch_size = 32,\n",
    "                                                 class_mode = 'binary')"
   ]
  },
  {
   "cell_type": "markdown",
   "id": "f13a8282",
   "metadata": {},
   "source": [
    "The total of images in the training set is given by 73 * 2 = 146. "
   ]
  },
  {
   "cell_type": "markdown",
   "id": "ba331b5d",
   "metadata": {},
   "source": [
    "## Preprocessing the Test Set"
   ]
  },
  {
   "cell_type": "code",
   "execution_count": 3,
   "id": "bece24be",
   "metadata": {},
   "outputs": [
    {
     "name": "stdout",
     "output_type": "stream",
     "text": [
      "Found 34 images belonging to 2 classes.\n"
     ]
    }
   ],
   "source": [
    "test_datagen = ImageDataGenerator(rescale = 1./255)\n",
    "test_set = test_datagen.flow_from_directory('Dataset/Test_Set',\n",
    "                                            target_size = (64, 64),\n",
    "                                            batch_size = 32,\n",
    "                                            class_mode = 'binary')"
   ]
  },
  {
   "cell_type": "markdown",
   "id": "7b6714a7",
   "metadata": {},
   "source": [
    "The total of images in the test set is given by 16 * 2 = 34. "
   ]
  },
  {
   "cell_type": "markdown",
   "id": "df76da77",
   "metadata": {},
   "source": [
    "# Building the CNN Model"
   ]
  },
  {
   "cell_type": "markdown",
   "id": "ea48f7de",
   "metadata": {},
   "source": [
    "## Initializing the Model"
   ]
  },
  {
   "cell_type": "code",
   "execution_count": 4,
   "id": "6b135381",
   "metadata": {},
   "outputs": [],
   "source": [
    "Model = tf.keras.models.Sequential()"
   ]
  },
  {
   "cell_type": "markdown",
   "id": "a7acd8a7",
   "metadata": {},
   "source": [
    "## Adding First Convolution Layer "
   ]
  },
  {
   "cell_type": "markdown",
   "id": "602c3790",
   "metadata": {},
   "source": [
    "The convolution layer is the layer where the filter is applied to our input image to extract or detect its features. A filter is applied to the image multiple times and creates a feature map which helps in classifying the input image."
   ]
  },
  {
   "cell_type": "code",
   "execution_count": 5,
   "id": "2c7a5f6e",
   "metadata": {},
   "outputs": [],
   "source": [
    "Model.add(tf.keras.layers.Conv2D(filters=32, kernel_size=3, activation='relu', input_shape=[64, 64, 3]))"
   ]
  },
  {
   "cell_type": "markdown",
   "id": "88307f07",
   "metadata": {},
   "source": [
    "## Pooling the First Layer"
   ]
  },
  {
   "cell_type": "markdown",
   "id": "6c955dd3",
   "metadata": {},
   "source": [
    "The pooling layer is applied after the Convolutional layer and is used to reduce the dimensions of the feature map which helps in preserving the important information or features of the input image and reduces the computation time.\n",
    "\n",
    "The pooling operation involves sliding a two-dimensional filter over each channel of feature map and summarising the features lying within the region covered by the filter. "
   ]
  },
  {
   "cell_type": "code",
   "execution_count": 6,
   "id": "b1fd4660",
   "metadata": {},
   "outputs": [],
   "source": [
    "Model.add(tf.keras.layers.MaxPool2D(pool_size=2, strides=2))"
   ]
  },
  {
   "cell_type": "markdown",
   "id": "d2463502",
   "metadata": {},
   "source": [
    "## Adding a Second Convolutional Layer"
   ]
  },
  {
   "cell_type": "code",
   "execution_count": 7,
   "id": "7a8f2073",
   "metadata": {},
   "outputs": [],
   "source": [
    "Model.add(tf.keras.layers.Conv2D(filters=32, kernel_size=3, activation='relu'))"
   ]
  },
  {
   "cell_type": "markdown",
   "id": "25cdaa8e",
   "metadata": {},
   "source": [
    "## Pooling the Second Layer"
   ]
  },
  {
   "cell_type": "code",
   "execution_count": 8,
   "id": "81f4e822",
   "metadata": {},
   "outputs": [],
   "source": [
    "Model.add(tf.keras.layers.MaxPool2D(pool_size=2, strides=2))"
   ]
  },
  {
   "cell_type": "markdown",
   "id": "b0508f3c",
   "metadata": {},
   "source": [
    "## Flattening"
   ]
  },
  {
   "cell_type": "markdown",
   "id": "020d7105",
   "metadata": {},
   "source": [
    "The flattening step involves taking the pooled feature map that is generated in the pooling step and transforming it into a one-dimensional vector. This vector will now become the input layer of an artificial neural network."
   ]
  },
  {
   "cell_type": "code",
   "execution_count": 9,
   "id": "ed852fd4",
   "metadata": {},
   "outputs": [],
   "source": [
    "Model.add(tf.keras.layers.Flatten())"
   ]
  },
  {
   "cell_type": "markdown",
   "id": "0f6a60fb",
   "metadata": {},
   "source": [
    "## Full Connection"
   ]
  },
  {
   "cell_type": "markdown",
   "id": "8480c2da",
   "metadata": {},
   "source": [
    "The full connection step involves chaining an artificial neural network onto our existing convolutional neural network."
   ]
  },
  {
   "cell_type": "code",
   "execution_count": 10,
   "id": "347c3eff",
   "metadata": {},
   "outputs": [],
   "source": [
    "Model.add(tf.keras.layers.Dense(units=128, activation='relu'))"
   ]
  },
  {
   "cell_type": "markdown",
   "id": "57975858",
   "metadata": {},
   "source": [
    "## Output Layer"
   ]
  },
  {
   "cell_type": "markdown",
   "id": "98072d26",
   "metadata": {},
   "source": [
    "We add the output layer. In this project we must have units=1 because we need to classify 2 different classes."
   ]
  },
  {
   "cell_type": "code",
   "execution_count": 11,
   "id": "bb8f3077",
   "metadata": {},
   "outputs": [],
   "source": [
    "Model.add(tf.keras.layers.Dense(units=1, activation='sigmoid'))"
   ]
  },
  {
   "cell_type": "markdown",
   "id": "b9850701",
   "metadata": {},
   "source": [
    "## Compiling the CNN"
   ]
  },
  {
   "cell_type": "code",
   "execution_count": 12,
   "id": "7ee587ef",
   "metadata": {},
   "outputs": [],
   "source": [
    "Model.compile(optimizer = 'adam', loss = 'binary_crossentropy', metrics = ['accuracy'])"
   ]
  },
  {
   "cell_type": "markdown",
   "id": "3bfe6793",
   "metadata": {},
   "source": [
    "## Training the CNN"
   ]
  },
  {
   "cell_type": "code",
   "execution_count": 13,
   "id": "797a3703",
   "metadata": {},
   "outputs": [
    {
     "name": "stdout",
     "output_type": "stream",
     "text": [
      "Epoch 1/50\n",
      "5/5 [==============================] - 7s 1s/step - loss: 0.8415 - accuracy: 0.5137 - val_loss: 0.6979 - val_accuracy: 0.5000\n",
      "Epoch 2/50\n",
      "5/5 [==============================] - 4s 885ms/step - loss: 0.6966 - accuracy: 0.5000 - val_loss: 0.6958 - val_accuracy: 0.5000\n",
      "Epoch 3/50\n",
      "5/5 [==============================] - 5s 1s/step - loss: 0.6956 - accuracy: 0.5000 - val_loss: 0.6930 - val_accuracy: 0.5000\n",
      "Epoch 4/50\n",
      "5/5 [==============================] - 4s 987ms/step - loss: 0.6942 - accuracy: 0.4863 - val_loss: 0.6927 - val_accuracy: 0.5000\n",
      "Epoch 5/50\n",
      "5/5 [==============================] - 4s 870ms/step - loss: 0.6938 - accuracy: 0.5000 - val_loss: 0.6929 - val_accuracy: 0.5000\n",
      "Epoch 6/50\n",
      "5/5 [==============================] - 4s 884ms/step - loss: 0.6930 - accuracy: 0.5000 - val_loss: 0.6927 - val_accuracy: 0.5000\n",
      "Epoch 7/50\n",
      "5/5 [==============================] - 5s 914ms/step - loss: 0.6936 - accuracy: 0.4589 - val_loss: 0.6929 - val_accuracy: 0.5000\n",
      "Epoch 8/50\n",
      "5/5 [==============================] - 5s 919ms/step - loss: 0.6935 - accuracy: 0.5000 - val_loss: 0.6934 - val_accuracy: 0.5000\n",
      "Epoch 9/50\n",
      "5/5 [==============================] - 4s 917ms/step - loss: 0.6933 - accuracy: 0.5000 - val_loss: 0.6932 - val_accuracy: 0.5000\n",
      "Epoch 10/50\n",
      "5/5 [==============================] - 5s 921ms/step - loss: 0.6931 - accuracy: 0.5000 - val_loss: 0.6928 - val_accuracy: 0.5000\n",
      "Epoch 11/50\n",
      "5/5 [==============================] - 5s 952ms/step - loss: 0.6930 - accuracy: 0.5000 - val_loss: 0.6923 - val_accuracy: 0.5000\n",
      "Epoch 12/50\n",
      "5/5 [==============================] - 5s 1s/step - loss: 0.6933 - accuracy: 0.5068 - val_loss: 0.6924 - val_accuracy: 0.5000\n",
      "Epoch 13/50\n",
      "5/5 [==============================] - 5s 1s/step - loss: 0.6929 - accuracy: 0.5000 - val_loss: 0.6914 - val_accuracy: 0.5000\n",
      "Epoch 14/50\n",
      "5/5 [==============================] - 5s 949ms/step - loss: 0.6926 - accuracy: 0.5000 - val_loss: 0.6905 - val_accuracy: 0.6471\n",
      "Epoch 15/50\n",
      "5/5 [==============================] - 5s 932ms/step - loss: 0.6925 - accuracy: 0.5205 - val_loss: 0.6902 - val_accuracy: 0.5000\n",
      "Epoch 16/50\n",
      "5/5 [==============================] - 4s 911ms/step - loss: 0.6923 - accuracy: 0.5000 - val_loss: 0.6904 - val_accuracy: 0.5000\n",
      "Epoch 17/50\n",
      "5/5 [==============================] - 5s 970ms/step - loss: 0.6935 - accuracy: 0.4726 - val_loss: 0.6920 - val_accuracy: 0.6471\n",
      "Epoch 18/50\n",
      "5/5 [==============================] - 5s 975ms/step - loss: 0.6927 - accuracy: 0.6233 - val_loss: 0.6921 - val_accuracy: 0.5294\n",
      "Epoch 19/50\n",
      "5/5 [==============================] - 5s 1s/step - loss: 0.6922 - accuracy: 0.5205 - val_loss: 0.6915 - val_accuracy: 0.5294\n",
      "Epoch 20/50\n",
      "5/5 [==============================] - 5s 929ms/step - loss: 0.6916 - accuracy: 0.5753 - val_loss: 0.6908 - val_accuracy: 0.5294\n",
      "Epoch 21/50\n",
      "5/5 [==============================] - 5s 1s/step - loss: 0.6908 - accuracy: 0.6575 - val_loss: 0.6893 - val_accuracy: 0.6176\n",
      "Epoch 22/50\n",
      "5/5 [==============================] - 4s 882ms/step - loss: 0.6908 - accuracy: 0.5616 - val_loss: 0.6875 - val_accuracy: 0.7059\n",
      "Epoch 23/50\n",
      "5/5 [==============================] - 4s 906ms/step - loss: 0.6901 - accuracy: 0.5890 - val_loss: 0.6833 - val_accuracy: 0.5294\n",
      "Epoch 24/50\n",
      "5/5 [==============================] - 5s 1s/step - loss: 0.6851 - accuracy: 0.6438 - val_loss: 0.6785 - val_accuracy: 0.5588\n",
      "Epoch 25/50\n",
      "5/5 [==============================] - 5s 1s/step - loss: 0.6808 - accuracy: 0.5616 - val_loss: 0.6740 - val_accuracy: 0.6765\n",
      "Epoch 26/50\n",
      "5/5 [==============================] - 4s 967ms/step - loss: 0.6755 - accuracy: 0.6438 - val_loss: 0.6607 - val_accuracy: 0.7353\n",
      "Epoch 27/50\n",
      "5/5 [==============================] - 5s 946ms/step - loss: 0.6721 - accuracy: 0.6507 - val_loss: 0.6471 - val_accuracy: 0.6471\n",
      "Epoch 28/50\n",
      "5/5 [==============================] - 5s 933ms/step - loss: 0.6534 - accuracy: 0.6507 - val_loss: 0.6333 - val_accuracy: 0.7353\n",
      "Epoch 29/50\n",
      "5/5 [==============================] - 5s 1s/step - loss: 0.6557 - accuracy: 0.6849 - val_loss: 0.6384 - val_accuracy: 0.6765\n",
      "Epoch 30/50\n",
      "5/5 [==============================] - 5s 1s/step - loss: 0.6453 - accuracy: 0.6233 - val_loss: 0.6232 - val_accuracy: 0.7059\n",
      "Epoch 31/50\n",
      "5/5 [==============================] - 5s 961ms/step - loss: 0.6391 - accuracy: 0.7123 - val_loss: 0.6121 - val_accuracy: 0.7353\n",
      "Epoch 32/50\n",
      "5/5 [==============================] - 5s 958ms/step - loss: 0.6367 - accuracy: 0.6986 - val_loss: 0.6002 - val_accuracy: 0.7353\n",
      "Epoch 33/50\n",
      "5/5 [==============================] - 5s 935ms/step - loss: 0.6224 - accuracy: 0.7055 - val_loss: 0.5930 - val_accuracy: 0.6471\n",
      "Epoch 34/50\n",
      "5/5 [==============================] - 5s 1s/step - loss: 0.6156 - accuracy: 0.6849 - val_loss: 0.6104 - val_accuracy: 0.6176\n",
      "Epoch 35/50\n",
      "5/5 [==============================] - 5s 980ms/step - loss: 0.6180 - accuracy: 0.6986 - val_loss: 0.5775 - val_accuracy: 0.7059\n",
      "Epoch 36/50\n",
      "5/5 [==============================] - 5s 987ms/step - loss: 0.6191 - accuracy: 0.6712 - val_loss: 0.5788 - val_accuracy: 0.6765\n",
      "Epoch 37/50\n",
      "5/5 [==============================] - 5s 962ms/step - loss: 0.6260 - accuracy: 0.7123 - val_loss: 0.5628 - val_accuracy: 0.7059\n",
      "Epoch 38/50\n",
      "5/5 [==============================] - 4s 908ms/step - loss: 0.6072 - accuracy: 0.6918 - val_loss: 0.5630 - val_accuracy: 0.7059\n",
      "Epoch 39/50\n",
      "5/5 [==============================] - 4s 980ms/step - loss: 0.5836 - accuracy: 0.7055 - val_loss: 0.5712 - val_accuracy: 0.7353\n",
      "Epoch 40/50\n",
      "5/5 [==============================] - 4s 983ms/step - loss: 0.6057 - accuracy: 0.7329 - val_loss: 0.6025 - val_accuracy: 0.6765\n",
      "Epoch 41/50\n",
      "5/5 [==============================] - 4s 989ms/step - loss: 0.6501 - accuracy: 0.6712 - val_loss: 0.5997 - val_accuracy: 0.6765\n",
      "Epoch 42/50\n",
      "5/5 [==============================] - 4s 896ms/step - loss: 0.6402 - accuracy: 0.6644 - val_loss: 0.5656 - val_accuracy: 0.7059\n",
      "Epoch 43/50\n",
      "5/5 [==============================] - 5s 933ms/step - loss: 0.5961 - accuracy: 0.7055 - val_loss: 0.5980 - val_accuracy: 0.6471\n",
      "Epoch 44/50\n",
      "5/5 [==============================] - 4s 911ms/step - loss: 0.5966 - accuracy: 0.7055 - val_loss: 0.5562 - val_accuracy: 0.7059\n",
      "Epoch 45/50\n",
      "5/5 [==============================] - 4s 1s/step - loss: 0.5756 - accuracy: 0.7192 - val_loss: 0.5668 - val_accuracy: 0.6471\n",
      "Epoch 46/50\n",
      "5/5 [==============================] - 4s 1s/step - loss: 0.5652 - accuracy: 0.7329 - val_loss: 0.5666 - val_accuracy: 0.7059\n",
      "Epoch 47/50\n",
      "5/5 [==============================] - 4s 904ms/step - loss: 0.5799 - accuracy: 0.7397 - val_loss: 0.6453 - val_accuracy: 0.6471\n",
      "Epoch 48/50\n",
      "5/5 [==============================] - 4s 907ms/step - loss: 0.5867 - accuracy: 0.6986 - val_loss: 0.6411 - val_accuracy: 0.6471\n",
      "Epoch 49/50\n",
      "5/5 [==============================] - 4s 908ms/step - loss: 0.5597 - accuracy: 0.7192 - val_loss: 0.5646 - val_accuracy: 0.7059\n",
      "Epoch 50/50\n",
      "5/5 [==============================] - 4s 900ms/step - loss: 0.5711 - accuracy: 0.7397 - val_loss: 0.5869 - val_accuracy: 0.6765\n"
     ]
    },
    {
     "data": {
      "text/plain": [
       "<keras.callbacks.History at 0x1bb59166370>"
      ]
     },
     "execution_count": 13,
     "metadata": {},
     "output_type": "execute_result"
    }
   ],
   "source": [
    "Model.fit(x = training_set, validation_data = test_set, epochs = 50)"
   ]
  },
  {
   "cell_type": "markdown",
   "id": "b6617fd6",
   "metadata": {},
   "source": [
    "## Evaluating the Model"
   ]
  },
  {
   "cell_type": "markdown",
   "id": "27c19d45",
   "metadata": {},
   "source": [
    "Firstly we evaluate the ability of the model in predicting our training set. "
   ]
  },
  {
   "cell_type": "code",
   "execution_count": 14,
   "id": "60da0b2d",
   "metadata": {
    "scrolled": true
   },
   "outputs": [
    {
     "name": "stdout",
     "output_type": "stream",
     "text": [
      "5/5 [==============================] - 3s 670ms/step - loss: 0.5492 - accuracy: 0.7397\n",
      "The accurancy of the model on the training set is 73.97 %\n"
     ]
    }
   ],
   "source": [
    "acc_training = Model.evaluate(training_set)\n",
    "print (\"The accurancy of the model on the training set is\", round(acc_training[1]*100, 2), \"%\")"
   ]
  },
  {
   "cell_type": "code",
   "execution_count": 15,
   "id": "d10e9b6a",
   "metadata": {},
   "outputs": [
    {
     "name": "stdout",
     "output_type": "stream",
     "text": [
      "2/2 [==============================] - 1s 45ms/step - loss: 0.5869 - accuracy: 0.6765\n",
      "The accurancy of the model on the test set is 67.65 %\n"
     ]
    }
   ],
   "source": [
    "acc_test = Model.evaluate(test_set)\n",
    "print (\"The accurancy of the model on the test set is\", round(acc_test[1]*100, 2), \"%\")"
   ]
  }
 ],
 "metadata": {
  "kernelspec": {
   "display_name": "Python 3 (ipykernel)",
   "language": "python",
   "name": "python3"
  },
  "language_info": {
   "codemirror_mode": {
    "name": "ipython",
    "version": 3
   },
   "file_extension": ".py",
   "mimetype": "text/x-python",
   "name": "python",
   "nbconvert_exporter": "python",
   "pygments_lexer": "ipython3",
   "version": "3.9.7"
  },
  "toc": {
   "base_numbering": 1,
   "nav_menu": {},
   "number_sections": true,
   "sideBar": true,
   "skip_h1_title": false,
   "title_cell": "Table of Contents",
   "title_sidebar": "Contents",
   "toc_cell": false,
   "toc_position": {},
   "toc_section_display": true,
   "toc_window_display": true
  },
  "varInspector": {
   "cols": {
    "lenName": 16,
    "lenType": 16,
    "lenVar": 40
   },
   "kernels_config": {
    "python": {
     "delete_cmd_postfix": "",
     "delete_cmd_prefix": "del ",
     "library": "var_list.py",
     "varRefreshCmd": "print(var_dic_list())"
    },
    "r": {
     "delete_cmd_postfix": ") ",
     "delete_cmd_prefix": "rm(",
     "library": "var_list.r",
     "varRefreshCmd": "cat(var_dic_list()) "
    }
   },
   "types_to_exclude": [
    "module",
    "function",
    "builtin_function_or_method",
    "instance",
    "_Feature"
   ],
   "window_display": false
  }
 },
 "nbformat": 4,
 "nbformat_minor": 5
}
